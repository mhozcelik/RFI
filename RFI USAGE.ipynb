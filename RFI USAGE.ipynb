{
 "cells": [
  {
   "cell_type": "code",
   "execution_count": 1,
   "id": "67e95e70-9830-4a11-99e2-a4b3912d05f7",
   "metadata": {},
   "outputs": [],
   "source": [
    "import os\n",
    "import sys\n",
    "import time\n",
    "import math\n",
    "import warnings\n",
    "import multiprocessing\n",
    "import numpy as np\n",
    "import pandas as pd\n",
    "from sklearn.model_selection import train_test_split\n",
    "from sklearn.metrics import confusion_matrix, roc_curve, auc, precision_score, recall_score, f1_score, fbeta_score\n",
    "from lightgbm import LGBMClassifier\n",
    "import feature_quality\n",
    "import MultiCollinearityEliminator\n",
    "import RFIFS\n",
    "import RG_FSA"
   ]
  },
  {
   "cell_type": "code",
   "execution_count": 3,
   "id": "917ca67f-f848-4aaf-b3e7-04cae93b61cc",
   "metadata": {},
   "outputs": [
    {
     "name": "stdout",
     "output_type": "stream",
     "text": [
      "(1427, 4323)\n"
     ]
    }
   ],
   "source": [
    "df = pd.read_csv(r'datasets/skfeature_cleaned/RELATHE.csv')\n",
    "print(df.shape)\n",
    "X = df.drop('y',axis=1)\n",
    "y = df['y']\n",
    "X_train, X_test, y_train, y_test = train_test_split(X,y,test_size=0.30,random_state=42,stratify=y)\n",
    "X_train2, X_val, y_train2, y_val = train_test_split(X_train,y_train,test_size=0.30,random_state=42,stratify=y_train)"
   ]
  },
  {
   "cell_type": "code",
   "execution_count": 4,
   "id": "43eb0423-1498-4280-825b-5c89faa1584d",
   "metadata": {},
   "outputs": [
    {
     "data": {
      "text/plain": [
       "['1263', '745', '674', '3380', '4294', '257', '1189', '4298', '1683', '391']"
      ]
     },
     "execution_count": 4,
     "metadata": {},
     "output_type": "execute_result"
    }
   ],
   "source": [
    "rfi = RFIFS.RFI(X_train,y_train)\n",
    "rfi.to_excel('RFI_RELATHE.xlsx')\n",
    "rfi.nlargest(10,'relative_feature_importance').index.to_list()"
   ]
  },
  {
   "cell_type": "code",
   "execution_count": null,
   "id": "b4e04d92-0554-4b01-9d19-d75d8ca63c2d",
   "metadata": {},
   "outputs": [],
   "source": []
  }
 ],
 "metadata": {
  "kernelspec": {
   "display_name": "Python 3 (ipykernel)",
   "language": "python",
   "name": "python3"
  },
  "language_info": {
   "codemirror_mode": {
    "name": "ipython",
    "version": 3
   },
   "file_extension": ".py",
   "mimetype": "text/x-python",
   "name": "python",
   "nbconvert_exporter": "python",
   "pygments_lexer": "ipython3",
   "version": "3.12.7"
  }
 },
 "nbformat": 4,
 "nbformat_minor": 5
}
